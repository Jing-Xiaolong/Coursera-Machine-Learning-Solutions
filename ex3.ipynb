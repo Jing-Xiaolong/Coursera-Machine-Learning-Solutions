{
 "nbformat": 4,
 "nbformat_minor": 2,
 "metadata": {
  "language_info": {
   "name": "python",
   "codemirror_mode": {
    "name": "ipython",
    "version": 3
   },
   "version": "3.7.5-final"
  },
  "orig_nbformat": 2,
  "file_extension": ".py",
  "mimetype": "text/x-python",
  "name": "python",
  "npconvert_exporter": "python",
  "pygments_lexer": "ipython3",
  "version": 3,
  "kernelspec": {
   "name": "python37564bit964a4097bd0547418cc8aa1db00bcce7",
   "display_name": "Python 3.7.5 64-bit"
  }
 },
 "cells": [
  {
   "cell_type": "markdown",
   "metadata": {},
   "source": [
    "# ex3: Multi-class Classification and Neural Network"
   ]
  },
  {
   "cell_type": "code",
   "execution_count": 1,
   "metadata": {},
   "outputs": [],
   "source": [
    "import numpy as np\n",
    "import matplotlib.pyplot as plt\n",
    "\n",
    "from scipy.io import loadmat\n",
    "from scipy.optimize import minimize"
   ]
  },
  {
   "cell_type": "markdown",
   "metadata": {},
   "source": [
    "## Part 1: Loading and Visualizing Data"
   ],
   "execution_count": null,
   "outputs": []
  },
  {
   "cell_type": "code",
   "execution_count": 2,
   "metadata": {},
   "outputs": [
    {
     "output_type": "stream",
     "name": "stdout",
     "text": "X: (5000, 400)\ny: (5000, 1)\n"
    },
    {
     "output_type": "display_data",
     "data": {
      "text/plain": "<Figure size 432x288 with 1 Axes>",
      "image/svg+xml": "<?xml version=\"1.0\" encoding=\"utf-8\" standalone=\"no\"?>\n<!DOCTYPE svg PUBLIC \"-//W3C//DTD SVG 1.1//EN\"\n  \"http://www.w3.org/Graphics/SVG/1.1/DTD/svg11.dtd\">\n<!-- Created with matplotlib (https://matplotlib.org/) -->\n<svg height=\"31.14pt\" version=\"1.1\" viewBox=\"0 0 349.2 31.14\" width=\"349.2pt\" xmlns=\"http://www.w3.org/2000/svg\" xmlns:xlink=\"http://www.w3.org/1999/xlink\">\n <defs>\n  <style type=\"text/css\">\n*{stroke-linecap:butt;stroke-linejoin:round;}\n  </style>\n </defs>\n <g id=\"figure_1\">\n  <g id=\"patch_1\">\n   <path d=\"M 0 31.14 \nL 349.2 31.14 \nL 349.2 0 \nL 0 0 \nz\n\" style=\"fill:none;\"/>\n  </g>\n  <g id=\"axes_1\">\n   <g clip-path=\"url(#pec983837db)\">\n    <image height=\"17\" id=\"image07cb60c947\" transform=\"scale(1 -1)translate(0 -17)\" width=\"335\" x=\"7.2\" xlink:href=\"data:image/png;base64,\niVBORw0KGgoAAAANSUhEUgAAAU8AAAARCAYAAABdPi7BAAAABHNCSVQICAgIfAhkiAAAG2hJREFUeJztnHtY1NX2/1+fzwwgF4eLyCXRQLzkydL0iKIm0QUtUVTSCFMPShmKpoilooIeb6V4Sc1L6pOmqD0kUWFHNO0cFUzzdiLvdghBLslFhssMzHz2949+MwcVhkH7fs/3+X17P8/neRjms9Zee+211l577b1Hqq6uFvyB/xOQJAlZlpFlGaPRiKIo/2mRfjdUV1fj5OSEEH+Y8x/4n4Hc2D8lSUKSpEdj/P+cVJZlM7+W8mzIoyGvlsDUriw32lWLdPe3/ShoyO9h0JguWqIPWZapra0lIyODZcuWcfv2batkaTh2zT3/KciyTFpamtX9eRR7aozPw/B4VPrfG4/iX79nP34vf3uUdq3ti7rhB5VKhaIoGAwG8+eHgaIoVFRUoCgKsizTqlUrMz/T30aj0SIPSZL4/vvvOXHiBEeOHKG4uJhevXqxZcsWZFm2KsMwZVhCCLRaLa6urmb5mkN9fT27d+9m//79BAYGMmnSJNq3b//Q2VpGRgbbt29n2bJlPPHEEy3OkE6fPs25c+e4c+cOsizz9NNP069fP9zc3JBl2aJcsiyTm5vLlClT+P7776mpqeGLL75g9+7ddOzY0aIsdXV1VstqZ2f3H8v8rl+/blXbRUVFfPLJJ2RnZxMcHExMTAy2trYtastkV1qtFr1eT9u2bZsdg/vpdTodWq0WAEdHRxwcHBBCWK0/U9Bqzo+s4QOg1WqpqanB3d0dtVptFV9JkjAajVRVVWEwGHBwcMDR0RFFUR7KDoQQlJaWotPpsLe3x8XFpcU8GuNpKV5IkkRdXR3PPfccjo6OBAcHM3z4cPz8/HBwcLDI2xzeZVlmxIgRPPbYY/j5+eHr60u7du3Yvn07RqPR6plAkiSEEJw5c4aRI0dy8OBBDh06xJYtW4iLiyMiIoLly5dbVK4QggULFnDp0iXeeustDh48yA8//MAHH3xAly5duHDhQrPyfPHFF3Tv3h0PDw9cXV3p1q0bvr6+jBo1ioKCgmYnhh9++IFNmzaxdetWFi1ahNFoJCQkhJs3bz7UrBgWFsa4ceMIDg7mL3/5C3V1dVbRSZLE5s2b6dChA8OGDWPixIlER0fTq1cvli5dSrdu3QgJCSE3N7dJuRRFwcfHh6+++oqKigoMBgOdO3dm9OjR5omyMciyzCuvvEJgYCCvv/46a9euZdu2bezbt4/s7Gx+/vlnDhw4wLhx42jfvj3ffvstarW6UV6SJKEoChcvXmT+/PnExMQwZcoUEhISKC0tfaSsRQiBv79/szxUKhVPPfUUnTp1YteuXSiKQrt27airq7O6fUVReOONN4iOjubYsWNcu3YNFxcXYmJiqK+vt8hHlmUqKyuZMGECTz/9NHv27GHPnj2Eh4fj6+tLdHQ0165da1YGtVpNUlISXbp0ITo6mpSUFKqqqlqcBVZUVBAfH8/48eO5cOECd+/exd/fn8DAQI4ePYqiKE3ykSSJDz/8EG9vbwYOHMibb77J9OnTGTRoEB999JH5HWshyzIDBgzgxo0buLu7k5mZSVRUVLN0ja0QGz6pqalMnz7dIg+VSoWDgwM7d+5k1qxZCCGYNGlSs36uNglQV1fH0aNHWbx4MVFRUeh0Oo4cOcKiRYs4evQoycnJtG/fnvr6eosMhRCo1WoGDx5MdHQ0QgjCw8PNNTZT0LQ0KFVVVea2TdmwJEm4u7tTVFREaWmpRRkkSWL79u0UFhbi6+tL//79OXXqFAUFBRw/fpzp06czZ84c+vTp0yQPNzc36urqSE9P5+2338bf35+goCA2b97M+++/j0qlsmp2lSQJlUpFbm4uffr0ITIykszMTKqqqnBzc2uWXgjBn//8Z9q1a/dANpCcnMy7775LeHg4aWlpxMXFNcnH5FBCCGpqajh37hzt2rWzaOBCCDZv3oyXlxf29vb3lGBMfevevTtBQUGMHTsWrVZrkd+5c+d4++23KSoqMme0QggyMzPJysrC1tb2oTNXZ2fnZp1VURQGDRqEvb09bdq0YebMmQghSE9PZ8yYMVa1I4Sge/fuhIeH07VrV4QQrFq1iqSkJJ599lkiIyMtZjl37tzh9OnT9O7dm6lTp6JWq4mJieHKlSskJiYSGxvL0aNHLU5qQgi6deuGq6sr6enpHD58mA0bNhAeHs7LL7+Mj48PrVu3xsbGxvx+Y5lkYmIier2ejz/+GHt7ewCOHTtGbGwsb7/9Nrt376Zv376NyiDLMvPnz2fy5MnMnj0bd3d3AHQ6HatXr+bkyZM8++yzLRpPjUZDYWEhAwYM4KmnnuLTTz8122xT+jQYDFy+fJmioiIURcHb2xsfHx/0ej0ajQYHBwcGDBhgti2DwXAPPyEEKpUKZ2dnXn31Vfbs2UNAQAD9+/enoqICFxeXJlcUskmIyspKhg0bxoQJE9BoNLRt25bIyEg2b97MhQsXGD9+PIcOHbJKCSanePfdd1m6dCmZmZkPzBCWYHICtVptFrylS5obN27g6urK6tWrWbt2rXkg7OzsOHnyJAsXLrSY/XXp0oWEhAT27dtHcnIyWq2WJ554gqKiIouGfb8cVVVVpKSkMGTIEEaMGMFPP/1EQUEBe/futYoHQEBAAPX19SiKcs8jyzJt2rShY8eOVFZWNrt0VxSFkydPEhcXx507d4iJiWkyU4TfdN65c2ecnJzMY3a/4QkhuH79OsXFxRbHx2g0snHjRoqLi0lNTaVHjx7IsoyHhwdFRUUcPnzY6kzl/hqrqTTTHIQQbN26lW7dupmzxNjYWHbt2kVtba1V7atUKuLi4mjfvj0GgwGj0cjEiROJjIxky5YtlJWVNclHURQ8PDzo0KEDZWVl1NbWIoTA1taWHj16sHv3bjp37syVK1cs+ojRaCQiIoL09HTs7OywsbHBx8eHzz77jNDQUKKioli4cCEpKSns3buXU6dOPSCTJElcunSJ+Ph47O3tMRqNGI1G/Pz82Lx5M97e3sTHx1NVVdWkLqdNm0ZiYiKenp7mMXF0dCQ6Opr9+/e3KHAKIXj55ZeZP38+Op2Oq1ev8tRTT1kMnEajka1btxIWFkZERASjR48mPDycN954g7CwMGJiYtizZw9Hjhxh1apVLF68uNH+CCFYtmwZtra2TJw4kR9//JHr16+j0Wgs+5TpD6PRSNeuXXF2djZniIqiEBwczI4dO7h9+zbR0dEkJSVZZWRCCKZOncr48eOJjY3l7NmzVi13hRA4OjoSEBBwz/JckiSqq6sJCAige/fuzfLRarW4ubnRq1cvVCoV3bp1Iz4+HpVKhY2NDTdv3uTKlStN0kuSxOjRo5k0aRLr1q0jPDycr776ij59+lhdIxNCsHbtWmbMmMGOHTuYOXMmnp6eODg4sGXLFqtryvcPoCmb1Wq1rFy5kszMTF588UWLgbCkpISEhARGjx7N/v37WblyJUOHDm3WwBurX2m1WsrKyqioqODatWssWbKEO3fu0L1790aNzTQ5X7hwgUGDBjFo0CCmTp1Kq1at8PLyYu3ataxfv9689GwORqMRvV4P/BbM7t69a3XgdXd3Ny/xJUnC3t6es2fPmid4a2BjY4OdnZ35s1qtJjY2FqPRSEFBQZN8hBBoNBqGDBnCxYsXyc7ONv9fURScnJxYsmQJ8fHxzWbxiqLg6enJjBkzqK2tJS8vj5UrV5KRkUG/fv0wGo1kZmaSnJzM4sWLG+Xl5eWFt7f3PWOmKAodOnRgzpw5FBQU8MsvvzTZ/uLFi3FycnqA3tvbm7q6Os6cOWO1jQshmDJlCtOnTyc5OZm0tDRCQkIs0tTV1XHixAkA7O3t6dGjB61ataK8vJzevXtTUVHB999/z9/+9jcOHjyIr6+vec/lfjzxxBOsXLmSsrIyQkJCOHjwoDlzbwrmaGZnZ8ehQ4coLy+/R9GKohAYGEhGRgYvvPACH330kdVFakmSmDNnDsHBwSxcuJB//etfVtHJssy0adOIiIjg0qVL2NraUl9fz/Lly5k3bx5eXl5WFefLysq4efMm8JvDTZ06FV9fX7PzmRywMQghkCSJ3r1706dPH3Jycvj666+pq6tDp9M162imYJ+WlsasWbPo27cv48aNY/v27axfv576+noqKytbtEOsUqlQq9XU1dVx9epVhg8fTkZGBrNnz6ZLly5NBsKioiJee+01Nm3ahEajITk5mXHjxlldejBBlmVKS0uJjIzkueeeIygoiGHDhnH58mUkSaJz585N2oaTkxOPP/44+fn5GAwGRo4cSVJSEjk5OWRmZnLp0iXKy8utkmPhwoXMmjWL5ORkzp8/b3FpdT9MWXtdXR23b99GCEH79u05e/as1Xq4fxVkCjgeHh7NyiGEIDIyEj8/PzZt2nTP+CuKgru7O1qtlr1791pVhpg5cyZz586luLiYBQsW0KpVK9577z1WrFjBli1bOHbsGKmpqY1OwE1t7EiShJeXF5Ik8cMPPzTZ/v3201DePn36cPjwYYvy3w97e3sCAgJYtWoV3t7eDBo0qMl3hRC0atWKxYsXM3bsWFxdXQkPD+ebb77h0KFDbN68mZSUFN58801GjBjBZ599RkRERJMJhqIo9OnThwMHDvDMM89QWVlJeXm5xeAvmwg1Gg2XL18mPT39AYdWFAV/f38WLFhAnz59+Pnnn62aUUw7XYmJiZSXl5OcnNwsjam9zp074+Liwrp16/j666/JyMjg008/JTg42CqHt7W1pbKyknXr1t1jOKYBVqlUzRqnEAJvb28GDx5Mz549cXR0ZN26dURFRXHr1q1mdaDX66mqqiIoKAhFUTAajajVakaNGsXOnTvZuHGjRWczBc26ujquXLnChx9+yMSJE4mIiOC1114jLCyMzz//nPj4eNq2bdskr3/84x/8+OOPxMTE8OWXXxIZGfnQpwZycnI4c+YMRUVFFBcXU1VVRX19PfPmzWuSRgiBjY0NISEhXLx40dy3119/nVWrVvHtt9/i4+ODk5OTxbZlWaawsJDHHnuMadOmERQUxN69e1myZInFrLsxPlevXiU0NNRsmw9zsqQlpaSGNJ6ensyZM4esrCzg3qBjNBqZNGkSqamplJSUNL9poVYzZcoU9uzZQ35+PmPGjDEHRtNGSGPZlsk3LR0zs7W1pV+/fhb7YpJfq9WydOlSVCoVsizz+OOPc/v2bYsJyv3Iyspi0aJF9OjRA29vb6vGpGPHjkybNo3169dz4MABioqKsLe3RwiBk5MTHTt2xMbGBmdnZ6tO6fj7+9O3b19sbGyYNGkSFy9ebHoDrrq6Wpie0tJSERoaKvr27SvOnz8vdDqdaPh9TU2NuHv3rnB2dhZ5eXmitrb2nu+bempqakRBQYHo3bu31TTV1dXCYDCInTt3CrVaLVq3bi1cXFzE1KlTxYIFC0RWVpbQarVN0oaFhQlnZ2fh6uoqhg4dKvLz80VlZaXo27evcHR0FEOHDrVI31D26upqMXv2bFFTUyN0Op345ZdfRFxcnPD39xdardb8zv1PbW2tOH36tOjcubPQ6XT3vKfT6YSbm5sYMmSIKC0tfYCHTqcT2dnZwtvbW8ycOVMUFBSIkpISUVtbK/R6fYv0mJaWJjw8PMSKFSvEjRs3xLVr10Rtba35aUr+pp7a2lqh0+nE5cuXxfDhw4Wrq6twd3dvVqaamhqxfft2sWrVKvPnmpoaodVqRVVVlVXt7ty500zX0CZ79OghTp48+YDNWpJFr9eLM2fOCGdnZ3Hs2DGraU2ypKSkCAcHB1FUVCQ2bdokBgwYIG7dumWVPmtqakR5eblo06aNSElJMY+DSR9jx44VK1assKjT+7/T6/Vi48aNYvv27UKv1zfbfpcuXcTy5cvN7ZpkSE1NFX5+fuKdd96xykdM9lpcXCxcXFxEcHCweOyxx8QHH3xglU5rampEWVmZSEtLE0ajUZSUlIiXXnpJfPfddy2yy8LCQnH48GHx/PPPiylTpoj8/HwRGRkpYmNjrR7T/Px80blzZ7Fv3z5RUFAgoqKihLOzs/jyyy8f0Pc905qDgwNr1qzBy8uLMWPGcOLEiXsirimDMBW6rYUQAjc3NyZOnEhZWZnVS9WsrCxWr17NkCFD+Pvf/87GjRtxdnZGp9Oh1+st8omPj8fDwwP4bQdx7969/Pzzz9y5cwchBD179rS6Bmva6S8uLkaSJDw9PfnrX//K/PnzOXr0qMUa15NPPklERATffPPNPUe+FEXhlVde4fr16xQWFjZa0K+oqMDGxoZp06bh7OyMRqO55zyhtTW6/v37ExQUxIIFCxg8eDAhISGcPn2a4uJiKisrMRgMFo8Y3T/zmtr38/Pj8ccfb1EG9uqrr7Jhwwbz0aqGGZA1UKvVVFRUmMsYkiTh4OCAn58fbdu2tVoOIQQ6nY6ePXvSq1cv5s6dS15eXotqdKGhocydO5chQ4bwySefkJSUhLu7u9WbV61atcLDw4N58+Zx+vRpJEmipqYGtVrNSy+9xPnz59Hr9Y3aRnV1NVeuXDF/J8sy9fX13L17F0dHR6vanz59Ol988QUlJSUYDAYqKipISkpi1qxZhIWFMWfOnGb1YbLTqVOncunSJTZs2MBPP/1EfHw8b731ltUrHCEEBQUF3Lx5E6PRiKenJ4WFhVbRmuDi4sLAgQMJDw8nIyOD559/ngEDBli9wWvqj42NDVlZWbi7u5OUlISvry/z5s0jPz//nnfviR6m2s2iRYtwdHRk7Nix5iBlSsdNxe2HOVLStWtXq870SZKEXq9n/vz5jBgxgt27d/Pkk08yatQoFixYwJIlS3j66afJy8trcnB69uxJaGgodXV12Nvbs3LlSmbOnElJSQk+Pj5ERES06OxqaGgosbGxXLp0yRxsRo8ezXfffYfBYGi0T6bAO2PGDKKiopg9eza//vqr2SDr6+vp2LEjPj4+D+hTURQ6deqEm5sbc+fOZd68eWzbto2LFy9SUFBAQUEBNTU1qFQq89g0pVeNRsPSpUuJjo7G3t4eDw8Phg8fTkhICEOHDiUxMZEjR4406qQHDhwgNzcXnU6HLMuo1WokSeLatWusWLGCr776ivr6eoYNG2ZVvc9UTklMTKS6urrF5zsDAwOZMGECu3bt4sqVKxQWFnLq1Cm6dOmCl5eX1Zcn0tPTeeedd9i6dStr1qyhqKiITZs2NRqsmuqLjY0NM2bMICcnh1GjRjFw4MAWlUMURWH37t04OTkxdepU1qxZw7x588zL7eLi4iYdX1EU3n33XfPn4uJiEhMTWbZsGS+99JJV+xIjR47Ezs6OpKQkLl++zOzZsykqKuL9998nKSkJFxeXZvVp2gRzc3MjMjKSXr16sWzZMsrLyzEajVbr0sHBgf379/PMM8+wefNmjEYjvr6+zdI2hKmePWHCBFJTU7G3tyc7O7tFJR1FUaivryc1NdV8eqB9+/bcvHmTlJSUe95VJSQkJN1P7OrqyvPPP2/e7XZycuKTTz5Bp9Nx48YN9Ho9r7766gNCmTIQU0Zw/3WnrKws/Pz80Gg0FgdFlmVKSkpYuHAhXbt2NWc3pgJ1aWkpy5cv5+rVqwwcOLDRAVKpVHTq1ImsrCxu376NSqXi9u3bGI1GJk+eTGhoqNUKFULg4uLCzp07Wb9+Pbdu3cJgMKBSqSgqKqJfv34W+2NjY0OnTp3YsGEDWVlZZkdPSEhg3rx5/OlPf3rA6Uw1m2eeeYbs7GzS09M5fvw4mZmZfP3116SkpHDs2DFyc3PJycmhtrYWW1vbRuuGJvmDg4MJCwvjtdde49tvvyUvL49ff/2V7Oxs9u3bx9ChQ/H29jb3RZZlJk2axOeff86pU6f46aefyM7OJjMzk6VLl3L48GGqq6t59tlnWbp0KRqNxip92tjYsGfPHiRJIjAw0OpJzOSod+/e5fjx46SlpZGens53333HmjVraNWqldVnb8vKyvj444/5/PPP6dChA9euXePcuXOMGDECNzc3q/hUVVVRVVVFfn4+1dXVvPDCCy2unXp4eBAUFERmZiY7d+5ErVYzfvx4bty4wY4dOxg3blyj/mI6XrRjxw6OHTvGypUrOXr0KGPGjCEsLMwq+e3t7enatSurV6/G2dmZyZMnExERwZNPPmn1LT74zU4GDhzIc889x7hx42jTpg0lJSWcP3+efv36Wb0/EhoaSv/+/enevTuZmZkMGTKENm3aWCVDQ0iShLe3NwMGDGDWrFn06tWLwYMHW0VrZ2eHo6Mjx48f59atW6Snp3Py5Enz0baIiIh/t1Nd/eAPg5gCX0lJCSNHjuTGjRs4Ojri6elJaWkpWVlZtGnT5h6HN10BXL16NQEBAXTr1s18cLm+vp6zZ8+yePFicnJyUKvVVg3MtGnTyM7OprCwEKPRSO/evdFoNBQVFeHl5UVcXBwBAQFN8pJlmRs3bpCQkMCZM2eorKwkMDCQTZs24ePj0+JNE61Wy/r169m9ezeFhYWo1Wqys7Pp0qVLs7xkWaa4uJitW7eSmpqKRqMhODiYxMTEZm+lGAwGc5amKAoXLlzgxIkT/PLLLxQXF/Prr79iZ2dHdHQ0kZGRTfJquDmQm5vLhQsXuH79OtevXwdgwYIF92TBsiyzdu1aEhISzDv9DXl16NCBF198kXfeeadF+lQUhZiYGDIyMti1axcvvvhii8bCpBPTxQuVSoWtrW2LedTU1HD58mVmzJhBXl4erVu35ptvvrHqGq4syxw+fJj333+fOXPm8MYbb/Djjz9a3LhrCqZJ+L333uPw4cNERkaSm5uLo6MjH330kXkDpCFMS/fIyEhu3rxJ69atmTx5MuPHj29RNi9JEtu2bSMhIYHw8HDi4uLw9/dvkfwmPrIsm2/m5eTkkJeXR0REBKtWrbKKhynRSktLIyoqinPnztGhQ4cWy9JQpm3btplPHgwYMKDZCVaWZaqrq/nnP//J3LlzOX/+vDmjnTFjBkuWLPn3RlljwfN+AUy7xA0/N/UuQG1tLXq93nwI3XSezsHBocXLtMaum5k6Y+3MaDAYuHv3LhqNBjs7u0f+NSHTMhlo9saVJfr7bzu0FA1v+oB1d/YfBmq1GoPBcM+lAgcHB/MYPEwfVCoV+/fvJzo6mitXruDl5fV7itwiNLy4Ye2Be/j3ZFRcXIyLi8sj3ZAyyaEoinkybN26tVUlrobltIeBqY3y8nJat25tdXLTnEyKopj9riWora1FrVY/sj7h38FQp9OZ+9YS2oax5/5fIms2eMK/76tbi6aOPzyso/0eMBnYf6r9/x9w/+bho8Bk1CkpKYwePbrFDva/Cb+3bTXcVPyfxH+Hj7TkB1NMMNnZ7yWHKR793n2zKnj+gT/w3wHTTamWZHt/4A/8b8F/AcAye6+RgDT6AAAAAElFTkSuQmCC\" y=\"-6.94\"/>\n   </g>\n  </g>\n </g>\n <defs>\n  <clipPath id=\"pec983837db\">\n   <rect height=\"16.74\" width=\"334.8\" x=\"7.2\" y=\"7.2\"/>\n  </clipPath>\n </defs>\n</svg>\n",
      "image/png": "[encoded data removed]"
     },
     "metadata": {
      "needs_background": "light"
     }
    }
   ],
   "source": [
    "data = loadmat('ex3/ex3data1.mat')\n",
    "X = data['X']\n",
    "y = data['y']\n",
    "print(\"X:\",X.shape)\n",
    "print(\"y:\",y.shape)\n",
    "\n",
    "s = np.random.choice(X.shape[0], 20)\n",
    "plt.imshow(X[s,:].reshape(-1,20).T, cmap='Greys')\n",
    "plt.axis('off')\n",
    "plt.show()"
   ]
  },
  {
   "cell_type": "markdown",
   "metadata": {},
   "source": [
    "## Part 2a: Vectorize Logistic Regression"
   ],
   "execution_count": null,
   "outputs": []
  },
  {
   "cell_type": "code",
   "execution_count": 3,
   "metadata": {},
   "outputs": [],
   "source": [
    "def sigmoid(z):\n",
    "    return 1 / (1 + np.exp(-z))\n",
    "\n",
    "def lrcost(theta, lamb, X, y):\n",
    "    m = X.shape[0]\n",
    "\n",
    "    # =========== code here ============\n",
    "    h = sigmoid(np.dot(X, theta)).reshape(m, 1)\n",
    "    J = -1/m * (np.dot(y.T, np.log(h)) + np.dot((1 - y).T, np.log(1 - h))) + lamb / (2*m) * sum(np.square(theta[1:]))\n",
    "    # ==================================\n",
    "\n",
    "    return J\n",
    "\n",
    "def lrgrad(theta, lamb, X, y):\n",
    "    m = X.shape[0]\n",
    "    n = X.shape[1]\n",
    "\n",
    "    # =========== code here ============\n",
    "    h = sigmoid(np.dot(X, theta)).reshape(m, 1)\n",
    "    grad = 1/m * np.dot(X.T, h-y) + lamb/m * theta.reshape(n, 1)\n",
    "    grad[0] = grad[0] - lamb / m * theta[0]\n",
    "    # ==================================\n",
    "\n",
    "    return grad.ravel()"
   ]
  },
  {
   "cell_type": "markdown",
   "metadata": {},
   "source": [
    "## Part 2b: One-vs-All Training"
   ],
   "execution_count": null,
   "outputs": []
  },
  {
   "cell_type": "code",
   "execution_count": 4,
   "metadata": {},
   "outputs": [
    {
     "output_type": "stream",
     "name": "stdout",
     "text": "(1, 10) (10, 1) (1, 1)\n"
    }
   ],
   "source": [
    "a = np.ones((1,10))\n",
    "b = np.ones((10,1))\n",
    "\n",
    "print(a.shape,b.shape, np.dot(a,b).shape)"
   ]
  },
  {
   "cell_type": "code",
   "execution_count": 5,
   "metadata": {},
   "outputs": [],
   "source": [
    "def oneVsAll(X, y, num_labels, lamb):\n",
    "    m = X.shape[0]\n",
    "    n = X.shape[1]\n",
    "    X = np.c_[np.ones((m, 1)), X]\n",
    "    all_theta = np.zeros((num_labels, n + 1))\n",
    "\n",
    "    # =========== code here ============\n",
    "    for k in np.arange(1, num_labels + 1):\n",
    "        init_theta = np.zeros((n + 1, 1))\n",
    "        result = minimize(lrcost, init_theta,\n",
    "                        args=(lamb, X, (y == k) * 1), method=None,\n",
    "                        jac=lrgrad, options={'maxiter':50})\n",
    "        all_theta[k - 1] = result.x\n",
    "    # ==================================\n",
    "\n",
    "    return all_theta\n",
    "\n",
    "all_theta = oneVsAll(X, y, 10, 0.1)"
   ]
  },
  {
   "cell_type": "markdown",
   "metadata": {},
   "source": [
    "## Predict for One-Vs-All"
   ]
  },
  {
   "cell_type": "code",
   "execution_count": 6,
   "metadata": {
    "tags": [
     "outputPrepend",
     "outputPrepend",
     "outputPrepend",
     "outputPrepend",
     "outputPrepend",
     "outputPrepend",
     "outputPrepend",
     "outputPrepend",
     "outputPrepend",
     "outputPrepend",
     "outputPrepend"
    ]
   },
   "outputs": [
    {
     "output_type": "stream",
     "name": "stdout",
     "text": "Trainning accuracy: 93.24%\n"
    }
   ],
   "source": [
    "def predictOneVsAll(all_theta, X):\n",
    "    m = X.shape[0]\n",
    "    X = np.c_[np.ones((m, 1)), X]\n",
    "\n",
    "    # =========== code here ============\n",
    "    probs = sigmoid(np.dot(X, all_theta.T))\n",
    "    labels = np.argmax(probs, axis=1) + 1       # +1是因为类别为1～10\n",
    "    # ==================================\n",
    "\n",
    "    return labels \n",
    "\n",
    "\n",
    "labels = predictOneVsAll(all_theta, X)\n",
    "acc = np.mean(labels.ravel() == y.ravel())\n",
    "\n",
    "print('Trainning accuracy: {}%'.format(acc*100))"
   ]
  },
  {
   "cell_type": "markdown",
   "metadata": {},
   "source": [
    "# Neural Networks\n",
    "\n",
    "## Part 1: Loading and Visualizing Data"
   ]
  },
  {
   "cell_type": "code",
   "execution_count": 7,
   "metadata": {},
   "outputs": [
    {
     "output_type": "stream",
     "name": "stdout",
     "text": "X: (5000, 400)\ny: (5000, 1)\n"
    },
    {
     "output_type": "display_data",
     "data": {
      "text/plain": "<Figure size 432x288 with 1 Axes>",
      "image/svg+xml": "<?xml version=\"1.0\" encoding=\"utf-8\" standalone=\"no\"?>\n<!DOCTYPE svg PUBLIC \"-//W3C//DTD SVG 1.1//EN\"\n  \"http://www.w3.org/Graphics/SVG/1.1/DTD/svg11.dtd\">\n<!-- Created with matplotlib (https://matplotlib.org/) -->\n<svg height=\"31.14pt\" version=\"1.1\" viewBox=\"0 0 349.2 31.14\" width=\"349.2pt\" xmlns=\"http://www.w3.org/2000/svg\" xmlns:xlink=\"http://www.w3.org/1999/xlink\">\n <defs>\n  <style type=\"text/css\">\n*{stroke-linecap:butt;stroke-linejoin:round;}\n  </style>\n </defs>\n <g id=\"figure_1\">\n  <g id=\"patch_1\">\n   <path d=\"M 0 31.14 \nL 349.2 31.14 \nL 349.2 0 \nL 0 0 \nz\n\" style=\"fill:none;\"/>\n  </g>\n  <g id=\"axes_1\">\n   <g clip-path=\"url(#p12362ba6b2)\">\n    <image height=\"17\" id=\"image2a530e5533\" transform=\"scale(1 -1)translate(0 -17)\" width=\"335\" x=\"7.2\" xlink:href=\"data:image/png;base64,\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\" y=\"-6.94\"/>\n   </g>\n  </g>\n </g>\n <defs>\n  <clipPath id=\"p12362ba6b2\">\n   <rect height=\"16.74\" width=\"334.8\" x=\"7.2\" y=\"7.2\"/>\n  </clipPath>\n </defs>\n</svg>\n",
      "image/png": "[encoded data removed]"
     },
     "metadata": {
      "needs_background": "light"
     }
    }
   ],
   "source": [
    "data = loadmat('ex3/ex3data1.mat')\n",
    "X = data['X']\n",
    "y = data['y']\n",
    "print(\"X:\",X.shape)\n",
    "print(\"y:\",y.shape)\n",
    "\n",
    "s = np.random.choice(X.shape[0], 20)\n",
    "plt.imshow(X[s,:].reshape(-1,20).T, cmap='Greys')\n",
    "plt.axis('off')\n",
    "plt.show()"
   ]
  },
  {
   "cell_type": "markdown",
   "metadata": {},
   "source": [
    "## Part 2: Loading Pameters"
   ]
  },
  {
   "cell_type": "code",
   "execution_count": 8,
   "metadata": {},
   "outputs": [
    {
     "output_type": "stream",
     "name": "stdout",
     "text": "Theta1: (25, 401)\nTheta2: (10, 26)\n"
    }
   ],
   "source": [
    "weights = loadmat('ex3/ex3weights.mat')\n",
    "Theta1 = weights['Theta1']\n",
    "Theta2 = weights['Theta2']\n",
    "print('Theta1:', Theta1.shape)\n",
    "print('Theta2:', Theta2.shape)"
   ]
  },
  {
   "cell_type": "markdown",
   "metadata": {},
   "source": [
    "## Part 3: Implement Predict"
   ]
  },
  {
   "cell_type": "code",
   "execution_count": 9,
   "metadata": {},
   "outputs": [
    {
     "output_type": "stream",
     "name": "stdout",
     "text": "Trainning accuracy: 97.52%\n"
    }
   ],
   "source": [
    "def predict(Theta1, Theta2, X):\n",
    "    m = X.shape[0]\n",
    "    X = np.c_[np.ones((m, 1)), X]\n",
    "    \n",
    "    # =========== code here ============\n",
    "    z2 = np.dot(X, Theta1.T)\n",
    "    a2 = np.c_[np.ones((m, 1)), sigmoid(z2)]\n",
    "    z3 = np.dot(a2, Theta2.T)\n",
    "    a3 = sigmoid(z3)\n",
    "    labels = np.argmax(a3, axis=1) + 1\n",
    "    # ==================================\n",
    "\n",
    "    return labels.ravel()\n",
    "\n",
    "labels = predict(Theta1, Theta2, X)\n",
    "acc = np.mean(labels.ravel() == y.ravel())\n",
    "\n",
    "print('Trainning accuracy: {}%'.format(acc*100))"
   ]
  },
  {
   "cell_type": "code",
   "execution_count": null,
   "metadata": {},
   "outputs": [],
   "source": []
  }
 ]
}